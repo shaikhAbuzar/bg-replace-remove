{
  "nbformat": 4,
  "nbformat_minor": 0,
  "metadata": {
    "colab": {
      "name": "ComputerVision.ipynb",
      "provenance": []
    },
    "kernelspec": {
      "name": "python3",
      "display_name": "Python 3"
    },
    "language_info": {
      "name": "python"
    },
    "accelerator": "GPU",
    "widgets": {
      "application/vnd.jupyter.widget-state+json": {
        "ae45e680472845faaa104a8463f5665b": {
          "model_module": "@jupyter-widgets/controls",
          "model_name": "HBoxModel",
          "state": {
            "_view_name": "HBoxView",
            "_dom_classes": [],
            "_model_name": "HBoxModel",
            "_view_module": "@jupyter-widgets/controls",
            "_model_module_version": "1.5.0",
            "_view_count": null,
            "_view_module_version": "1.5.0",
            "box_style": "",
            "layout": "IPY_MODEL_263e49ac32f94138b5dc8671563fbee7",
            "_model_module": "@jupyter-widgets/controls",
            "children": [
              "IPY_MODEL_4c4de3597d844f959b61aace1767bbc9",
              "IPY_MODEL_9abe9a89ef0142bd91a042ee28f688bf"
            ]
          }
        },
        "263e49ac32f94138b5dc8671563fbee7": {
          "model_module": "@jupyter-widgets/base",
          "model_name": "LayoutModel",
          "state": {
            "_view_name": "LayoutView",
            "grid_template_rows": null,
            "right": null,
            "justify_content": null,
            "_view_module": "@jupyter-widgets/base",
            "overflow": null,
            "_model_module_version": "1.2.0",
            "_view_count": null,
            "flex_flow": null,
            "width": null,
            "min_width": null,
            "border": null,
            "align_items": null,
            "bottom": null,
            "_model_module": "@jupyter-widgets/base",
            "top": null,
            "grid_column": null,
            "overflow_y": null,
            "overflow_x": null,
            "grid_auto_flow": null,
            "grid_area": null,
            "grid_template_columns": null,
            "flex": null,
            "_model_name": "LayoutModel",
            "justify_items": null,
            "grid_row": null,
            "max_height": null,
            "align_content": null,
            "visibility": null,
            "align_self": null,
            "height": null,
            "min_height": null,
            "padding": null,
            "grid_auto_rows": null,
            "grid_gap": null,
            "max_width": null,
            "order": null,
            "_view_module_version": "1.2.0",
            "grid_template_areas": null,
            "object_position": null,
            "object_fit": null,
            "grid_auto_columns": null,
            "margin": null,
            "display": null,
            "left": null
          }
        },
        "4c4de3597d844f959b61aace1767bbc9": {
          "model_module": "@jupyter-widgets/controls",
          "model_name": "FloatProgressModel",
          "state": {
            "_view_name": "ProgressView",
            "style": "IPY_MODEL_6349a111651d4efc8bee20c3bfe65a19",
            "_dom_classes": [],
            "description": "100%",
            "_model_name": "FloatProgressModel",
            "bar_style": "success",
            "max": 244545539,
            "_view_module": "@jupyter-widgets/controls",
            "_model_module_version": "1.5.0",
            "value": 244545539,
            "_view_count": null,
            "_view_module_version": "1.5.0",
            "orientation": "horizontal",
            "min": 0,
            "description_tooltip": null,
            "_model_module": "@jupyter-widgets/controls",
            "layout": "IPY_MODEL_87427b4d37a8497cb8bbe138fea33a2e"
          }
        },
        "9abe9a89ef0142bd91a042ee28f688bf": {
          "model_module": "@jupyter-widgets/controls",
          "model_name": "HTMLModel",
          "state": {
            "_view_name": "HTMLView",
            "style": "IPY_MODEL_5b9b01636e114815a9d9ca4171e09f19",
            "_dom_classes": [],
            "description": "",
            "_model_name": "HTMLModel",
            "placeholder": "​",
            "_view_module": "@jupyter-widgets/controls",
            "_model_module_version": "1.5.0",
            "value": " 233M/233M [00:04&lt;00:00, 59.7MB/s]",
            "_view_count": null,
            "_view_module_version": "1.5.0",
            "description_tooltip": null,
            "_model_module": "@jupyter-widgets/controls",
            "layout": "IPY_MODEL_c873f084eba44f83aa9f60e5ce56a41a"
          }
        },
        "6349a111651d4efc8bee20c3bfe65a19": {
          "model_module": "@jupyter-widgets/controls",
          "model_name": "ProgressStyleModel",
          "state": {
            "_view_name": "StyleView",
            "_model_name": "ProgressStyleModel",
            "description_width": "initial",
            "_view_module": "@jupyter-widgets/base",
            "_model_module_version": "1.5.0",
            "_view_count": null,
            "_view_module_version": "1.2.0",
            "bar_color": null,
            "_model_module": "@jupyter-widgets/controls"
          }
        },
        "87427b4d37a8497cb8bbe138fea33a2e": {
          "model_module": "@jupyter-widgets/base",
          "model_name": "LayoutModel",
          "state": {
            "_view_name": "LayoutView",
            "grid_template_rows": null,
            "right": null,
            "justify_content": null,
            "_view_module": "@jupyter-widgets/base",
            "overflow": null,
            "_model_module_version": "1.2.0",
            "_view_count": null,
            "flex_flow": null,
            "width": null,
            "min_width": null,
            "border": null,
            "align_items": null,
            "bottom": null,
            "_model_module": "@jupyter-widgets/base",
            "top": null,
            "grid_column": null,
            "overflow_y": null,
            "overflow_x": null,
            "grid_auto_flow": null,
            "grid_area": null,
            "grid_template_columns": null,
            "flex": null,
            "_model_name": "LayoutModel",
            "justify_items": null,
            "grid_row": null,
            "max_height": null,
            "align_content": null,
            "visibility": null,
            "align_self": null,
            "height": null,
            "min_height": null,
            "padding": null,
            "grid_auto_rows": null,
            "grid_gap": null,
            "max_width": null,
            "order": null,
            "_view_module_version": "1.2.0",
            "grid_template_areas": null,
            "object_position": null,
            "object_fit": null,
            "grid_auto_columns": null,
            "margin": null,
            "display": null,
            "left": null
          }
        },
        "5b9b01636e114815a9d9ca4171e09f19": {
          "model_module": "@jupyter-widgets/controls",
          "model_name": "DescriptionStyleModel",
          "state": {
            "_view_name": "StyleView",
            "_model_name": "DescriptionStyleModel",
            "description_width": "",
            "_view_module": "@jupyter-widgets/base",
            "_model_module_version": "1.5.0",
            "_view_count": null,
            "_view_module_version": "1.2.0",
            "_model_module": "@jupyter-widgets/controls"
          }
        },
        "c873f084eba44f83aa9f60e5ce56a41a": {
          "model_module": "@jupyter-widgets/base",
          "model_name": "LayoutModel",
          "state": {
            "_view_name": "LayoutView",
            "grid_template_rows": null,
            "right": null,
            "justify_content": null,
            "_view_module": "@jupyter-widgets/base",
            "overflow": null,
            "_model_module_version": "1.2.0",
            "_view_count": null,
            "flex_flow": null,
            "width": null,
            "min_width": null,
            "border": null,
            "align_items": null,
            "bottom": null,
            "_model_module": "@jupyter-widgets/base",
            "top": null,
            "grid_column": null,
            "overflow_y": null,
            "overflow_x": null,
            "grid_auto_flow": null,
            "grid_area": null,
            "grid_template_columns": null,
            "flex": null,
            "_model_name": "LayoutModel",
            "justify_items": null,
            "grid_row": null,
            "max_height": null,
            "align_content": null,
            "visibility": null,
            "align_self": null,
            "height": null,
            "min_height": null,
            "padding": null,
            "grid_auto_rows": null,
            "grid_gap": null,
            "max_width": null,
            "order": null,
            "_view_module_version": "1.2.0",
            "grid_template_areas": null,
            "object_position": null,
            "object_fit": null,
            "grid_auto_columns": null,
            "margin": null,
            "display": null,
            "left": null
          }
        }
      }
    }
  },
  "cells": [
    {
      "cell_type": "code",
      "metadata": {
        "id": "ju19gE4cIUhU"
      },
      "source": [
        "from torchvision import models\n",
        "from PIL import Image\n",
        "import matplotlib.pyplot as plt\n",
        "import torch\n",
        "import numpy as np\n",
        "import cv2"
      ],
      "execution_count": 1,
      "outputs": []
    },
    {
      "cell_type": "code",
      "metadata": {
        "id": "izXxdh0dIb7T"
      },
      "source": [
        "# Apply the transformations needed\n",
        "import torchvision.transforms as T"
      ],
      "execution_count": 2,
      "outputs": []
    },
    {
      "cell_type": "code",
      "metadata": {
        "id": "ml3vsp2UIeBx"
      },
      "source": [
        "\n",
        "# Define the helper function\n",
        "def decode_segmap(image, source, nc=21):\n",
        "\n",
        "  label_colors = np.array([(0, 0, 0),  # 0=background\n",
        "               # 1=aeroplane, 2=bicycle, 3=bird, 4=boat, 5=bottle\n",
        "               (128, 0, 0), (0, 128, 0), (128, 128, 0), (0, 0, 128), (128, 0, 128),\n",
        "               # 6=bus, 7=car, 8=cat, 9=chair, 10=cow\n",
        "               (0, 128, 128), (128, 128, 128), (64, 0, 0), (192, 0, 0), (64, 128, 0),\n",
        "               # 11=dining table, 12=dog, 13=horse, 14=motorbike, 15=person\n",
        "               (192, 128, 0), (64, 0, 128), (192, 0, 128), (64, 128, 128), (192, 128, 128),\n",
        "               # 16=potted plant, 17=sheep, 18=sofa, 19=train, 20=tv/monitor\n",
        "               (0, 64, 0), (128, 64, 0), (0, 192, 0), (128, 192, 0), (0, 64, 128)])\n",
        "\n",
        "  r = np.zeros_like(image).astype(np.uint8)\n",
        "  g = np.zeros_like(image).astype(np.uint8)\n",
        "  b = np.zeros_like(image).astype(np.uint8)\n",
        "\n",
        "\n",
        "  for l in range(0, nc):\n",
        "    idx = image == l\n",
        "    r[idx] = label_colors[l, 0]\n",
        "    g[idx] = label_colors[l, 1]\n",
        "    b[idx] = label_colors[l, 2]\n",
        "\n",
        "  rgb = np.stack([r, g, b], axis=2)\n",
        "\n",
        "  # Load the foreground input image\n",
        "  foreground = cv2.imread(source)\n",
        "\n",
        "  # Change the color of foreground image to RGB\n",
        "  # and resize image to match shape of R-band in RGB output map\n",
        "  foreground = cv2.cvtColor(foreground, cv2.COLOR_BGR2RGB)\n",
        "  foreground = cv2.resize(foreground,(r.shape[1],r.shape[0]))\n",
        "\n",
        "  # Create a background array to hold white pixels\n",
        "  # with the same size as RGB output map\n",
        "  background = 255 * np.ones_like(rgb).astype(np.uint8)\n",
        "\n",
        "  # Convert uint8 to float\n",
        "  foreground = foreground.astype(float)\n",
        "  background = background.astype(float)\n",
        "\n",
        "  # Create a binary mask of the RGB output map using the threshold value 0\n",
        "  th, alpha = cv2.threshold(np.array(rgb),0,255, cv2.THRESH_BINARY)\n",
        "\n",
        "  # Apply a slight blur to the mask to soften edges\n",
        "  alpha = cv2.GaussianBlur(alpha, (7,7),0)\n",
        "\n",
        "  # Normalize the alpha mask to keep intensity between 0 and 1\n",
        "  alpha = alpha.astype(float)/255\n",
        "\n",
        "  # Multiply the foreground with the alpha matte\n",
        "  foreground = cv2.multiply(alpha, foreground)\n",
        "\n",
        "  # Multiply the background with ( 1 - alpha )\n",
        "  background = cv2.multiply(1.0 - alpha, background)\n",
        "\n",
        "  # Add the masked foreground and background\n",
        "  outImage = cv2.add(foreground, background)\n",
        "\n",
        "  # Return a normalized output image for display\n",
        "  return outImage/255"
      ],
      "execution_count": 3,
      "outputs": []
    },
    {
      "cell_type": "code",
      "metadata": {
        "id": "atH89VU4Ii3n"
      },
      "source": [
        "def segment(net, path, show_orig=True, dev='cuda'):\n",
        "  img = Image.open(path)\n",
        "  if show_orig: plt.imshow(img); plt.axis('off'); plt.show()\n",
        "  # Comment the Resize and CenterCrop for better inference results\n",
        "  trf = T.Compose([T.Resize(450),\n",
        "                   #T.CenterCrop(224),\n",
        "                   T.ToTensor(),\n",
        "                   T.Normalize(mean = [0.485, 0.456, 0.406],\n",
        "                               std = [0.229, 0.224, 0.225])])\n",
        "  inp = trf(img).unsqueeze(0).to(dev)\n",
        "  out = net.to(dev)(inp)['out']\n",
        "  om = torch.argmax(out.squeeze(), dim=0).detach().cpu().numpy()\n",
        "\n",
        "  rgb = decode_segmap(om, path)\n",
        "\n",
        "  plt.imshow(rgb); plt.axis('off'); plt.show()"
      ],
      "execution_count": 4,
      "outputs": []
    },
    {
      "cell_type": "code",
      "metadata": {
        "colab": {
          "base_uri": "https://localhost:8080/",
          "height": 120,
          "referenced_widgets": [
            "ae45e680472845faaa104a8463f5665b",
            "263e49ac32f94138b5dc8671563fbee7",
            "4c4de3597d844f959b61aace1767bbc9",
            "9abe9a89ef0142bd91a042ee28f688bf",
            "6349a111651d4efc8bee20c3bfe65a19",
            "87427b4d37a8497cb8bbe138fea33a2e",
            "5b9b01636e114815a9d9ca4171e09f19",
            "c873f084eba44f83aa9f60e5ce56a41a"
          ]
        },
        "id": "tF2RTGCbIm0E",
        "outputId": "bf11e6c1-4011-4935-9cfb-31edca9d32bb"
      },
      "source": [
        "dlab = models.segmentation.deeplabv3_resnet101(pretrained=1).eval()"
      ],
      "execution_count": 5,
      "outputs": [
        {
          "output_type": "stream",
          "text": [
            "Downloading: \"https://download.pytorch.org/models/deeplabv3_resnet101_coco-586e9e4e.pth\" to /root/.cache/torch/hub/checkpoints/deeplabv3_resnet101_coco-586e9e4e.pth\n"
          ],
          "name": "stderr"
        },
        {
          "output_type": "display_data",
          "data": {
            "application/vnd.jupyter.widget-view+json": {
              "model_id": "ae45e680472845faaa104a8463f5665b",
              "version_minor": 0,
              "version_major": 2
            },
            "text/plain": [
              "HBox(children=(FloatProgress(value=0.0, max=244545539.0), HTML(value='')))"
            ]
          },
          "metadata": {
            "tags": []
          }
        },
        {
          "output_type": "stream",
          "text": [
            "\n",
            "Time Taken on Colab: 0:00:05.512327\n"
          ],
          "name": "stdout"
        }
      ]
    },
    {
      "cell_type": "code",
      "metadata": {
        "colab": {
          "base_uri": "https://localhost:8080/",
          "height": 265
        },
        "id": "A0fuxrrrIovN",
        "outputId": "06757557-2f60-434f-ce83-f4ce8b0c306d"
      },
      "source": [
        "from datetime import datetime\n",
        "start = datetime.now()\n",
        "segment(dlab, 'Picture1.jpg', show_orig=False)\n",
        "end = datetime.now()\n",
        "\n",
        "print('Time Taken on Colab:', end - start)"
      ],
      "execution_count": 9,
      "outputs": [
        {
          "output_type": "display_data",
          "data": {
            "image/png": "[encoded data removed]",
            "text/plain": [
              "<Figure size 432x288 with 1 Axes>"
            ]
          },
          "metadata": {
            "tags": [],
            "needs_background": "light"
          }
        },
        {
          "output_type": "stream",
          "text": [
            "Time Taken on Colab: 0:00:00.386667\n"
          ],
          "name": "stdout"
        }
      ]
    },
    {
      "cell_type": "code",
      "metadata": {
        "id": "AxM6oNBzS_Mg"
      },
      "source": [
        ""
      ],
      "execution_count": null,
      "outputs": []
    }
  ]
}